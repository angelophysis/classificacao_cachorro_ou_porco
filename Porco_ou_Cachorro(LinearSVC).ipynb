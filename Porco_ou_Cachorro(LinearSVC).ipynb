{
  "nbformat": 4,
  "nbformat_minor": 0,
  "metadata": {
    "colab": {
      "provenance": [],
      "collapsed_sections": [],
      "include_colab_link": true
    },
    "kernelspec": {
      "name": "python3",
      "display_name": "Python 3"
    },
    "language_info": {
      "name": "python"
    }
  },
  "cells": [
    {
      "cell_type": "markdown",
      "metadata": {
        "id": "view-in-github",
        "colab_type": "text"
      },
      "source": [
        "<a href=\"https://colab.research.google.com/github/angelophysis/classificacao_cachorro_ou_porco/blob/main/Porco_ou_Cachorro(LinearSVC).ipynb\" target=\"_parent\"><img src=\"https://colab.research.google.com/assets/colab-badge.svg\" alt=\"Open In Colab\"/></a>"
      ]
    },
    {
      "cell_type": "markdown",
      "source": [
        "# **Classificação se um animal é um cachorro ou um porco**\n"
      ],
      "metadata": {
        "id": "ceocOnZ_yz2x"
      }
    },
    {
      "cell_type": "markdown",
      "source": [
        "## Resumo\n",
        "\n",
        "Projeto bem simples de machine learning do curso \"Machine Learning: classificação com SKLearn\" da Alura, ao qual utiliza o LinearSVC do Scikit Learn para identificar se um animal é um cachorro ou um porco."
      ],
      "metadata": {
        "id": "eWef_xYh1fFZ"
      }
    },
    {
      "cell_type": "code",
      "execution_count": 1,
      "metadata": {
        "id": "3xoZEnmZT4FD"
      },
      "outputs": [],
      "source": [
        "# features (1-sim, 0-não)\n",
        "\n",
        "# perna curta?\n",
        "# pelo longo?\n",
        "# faz au au?\n",
        "\n",
        "porco1 = [0, 1, 0]\n",
        "porco2 = [0, 1, 1]\n",
        "porco3 = [1, 1, 0]\n",
        "\n",
        "cachorro1 = [0, 1, 1]\n",
        "cachorro2 = [1, 0, 1]\n",
        "cachorro3 = [1, 1, 1]\n",
        "\n",
        "# 1 => porco,  0 => cachorro\n",
        "treino_x = [porco1, porco2, porco3, cachorro1, cachorro2, cachorro3]\n",
        "treino_y = [1, 1, 1, 0, 0, 0] #labels"
      ]
    },
    {
      "cell_type": "markdown",
      "source": [
        "## Treinando o modelo com LinearSVC"
      ],
      "metadata": {
        "id": "660es4Ucy1l5"
      }
    },
    {
      "cell_type": "code",
      "source": [
        "\n",
        "from sklearn.svm import LinearSVC\n",
        "\n",
        "model = LinearSVC()\n",
        "model.fit(treino_x, treino_y)"
      ],
      "metadata": {
        "colab": {
          "base_uri": "https://localhost:8080/"
        },
        "id": "qB5ou9vWe9Kz",
        "outputId": "1e3f4835-9b12-48e5-d2f9-d2761472e1a5"
      },
      "execution_count": 2,
      "outputs": [
        {
          "output_type": "execute_result",
          "data": {
            "text/plain": [
              "LinearSVC()"
            ]
          },
          "metadata": {},
          "execution_count": 2
        }
      ]
    },
    {
      "cell_type": "markdown",
      "source": [
        "## Testando o modelo\n",
        "\n"
      ],
      "metadata": {
        "id": "Wv0BXS6somby"
      }
    },
    {
      "cell_type": "code",
      "source": [
        "animal_misterioso = [0, 0, 0]\n",
        "model.predict([animal_misterioso])"
      ],
      "metadata": {
        "colab": {
          "base_uri": "https://localhost:8080/"
        },
        "id": "u-FWUAFUgmE1",
        "outputId": "76f5c4a0-cbb0-44da-a5bd-29d9aa5e42d9"
      },
      "execution_count": 3,
      "outputs": [
        {
          "output_type": "execute_result",
          "data": {
            "text/plain": [
              "array([1])"
            ]
          },
          "metadata": {},
          "execution_count": 3
        }
      ]
    },
    {
      "cell_type": "code",
      "source": [
        "misterioso1 = [1, 1, 1]\n",
        "misterioso2 = [1, 1, 0]\n",
        "misterioso3 = [0, 1, 1]\n",
        "\n",
        "teste_x = [misterioso1, misterioso2, misterioso3]\n",
        "teste_y = [0, 1, 1]\n"
      ],
      "metadata": {
        "id": "-xVsBFnRk9yD"
      },
      "execution_count": 4,
      "outputs": []
    },
    {
      "cell_type": "code",
      "source": [
        "previsoes = model.predict(teste_x)\n",
        "previsoes"
      ],
      "metadata": {
        "id": "CyHj6OiCnk9-",
        "colab": {
          "base_uri": "https://localhost:8080/"
        },
        "outputId": "0b42be59-f0b8-441e-8b20-c430b01b1b01"
      },
      "execution_count": 5,
      "outputs": [
        {
          "output_type": "execute_result",
          "data": {
            "text/plain": [
              "array([0, 1, 0])"
            ]
          },
          "metadata": {},
          "execution_count": 5
        }
      ]
    },
    {
      "cell_type": "code",
      "source": [
        "previsoes == teste_y"
      ],
      "metadata": {
        "colab": {
          "base_uri": "https://localhost:8080/"
        },
        "id": "DjaJ06stl-zd",
        "outputId": "5dbf44a5-f656-4024-9617-df2d2fa58355"
      },
      "execution_count": 6,
      "outputs": [
        {
          "output_type": "execute_result",
          "data": {
            "text/plain": [
              "array([ True,  True, False])"
            ]
          },
          "metadata": {},
          "execution_count": 6
        }
      ]
    },
    {
      "cell_type": "code",
      "source": [
        "corretos = (previsoes == teste_y).sum()"
      ],
      "metadata": {
        "id": "cqgjxkrioLXQ"
      },
      "execution_count": 7,
      "outputs": []
    },
    {
      "cell_type": "code",
      "source": [
        "total = len(teste_x)"
      ],
      "metadata": {
        "id": "gKjSBsDwpAMg"
      },
      "execution_count": 8,
      "outputs": []
    },
    {
      "cell_type": "code",
      "source": [
        "taxa_de_acertos = (corretos/total)*100\n",
        "\n",
        "print('Taxa de acertos: {:.2f}'.format(taxa_de_acertos))"
      ],
      "metadata": {
        "colab": {
          "base_uri": "https://localhost:8080/"
        },
        "id": "yMgjvjzdpE7Y",
        "outputId": "8fbb023b-43d0-4deb-d961-9e202b9c93ba"
      },
      "execution_count": 9,
      "outputs": [
        {
          "output_type": "stream",
          "name": "stdout",
          "text": [
            "Taxa de acertos: 66.67\n"
          ]
        }
      ]
    },
    {
      "cell_type": "markdown",
      "source": [
        "## Utilizo o \"accuracy_score\" da biblioteca Scikit Learn para apurar a taxa de acerto."
      ],
      "metadata": {
        "id": "sEf7Lv7gpKw7"
      }
    },
    {
      "cell_type": "code",
      "source": [
        "\n",
        "from sklearn.metrics import accuracy_score\n",
        "\n",
        "taxa_de_acerto = accuracy_score(teste_y, previsoes)\n",
        "print(\"Taxa de acerto: {:.2f}\".format(taxa_de_acerto*100))"
      ],
      "metadata": {
        "colab": {
          "base_uri": "https://localhost:8080/"
        },
        "id": "eiHy77juqMGz",
        "outputId": "3427b0a6-59e9-4143-89ee-6679d18904d4"
      },
      "execution_count": 10,
      "outputs": [
        {
          "output_type": "stream",
          "name": "stdout",
          "text": [
            "Taxa de acerto: 66.67\n"
          ]
        }
      ]
    }
  ]
}